{
 "cells": [
  {
   "cell_type": "markdown",
   "metadata": {},
   "source": [
    "## What is NER\n",
    "NER stands for Named Entity Recognition, which is a natural language processing technique used to identify and classify named entities (such as names of people, places, organizations, dates, and more) in text. Here's a breakdown of NER in five steps:"
   ]
  },
  {
   "cell_type": "markdown",
   "metadata": {},
   "source": [
    "<img src=\"Screenshot 2024-10-26 at 8.30.39 PM.png\">"
   ]
  },
  {
   "cell_type": "markdown",
   "metadata": {},
   "source": [
    "<img src=\"Screenshot 2024-10-26 at 8.32.12 PM.png\">"
   ]
  },
  {
   "cell_type": "markdown",
   "metadata": {},
   "source": [
    "**DEMO:**\n",
    "https://demos.explosion.ai/displacy-ent\n",
    "\n",
    "**Text Input:**\n",
    "NER begins with a piece of text, which can be a sentence, a paragraph, a document, or even a larger corpus of text.\n",
    "\n",
    "**Tokenization:**\n",
    "The input text is split into individual words or tokens. This process is called tokenization, and it's a crucial step because NER works on a token-by-token basis.\n",
    "\n",
    "**Entity Recognition:**       \n",
    "The tokenized text is analyzed to identify spans of tokens that correspond to named entities. NER systems use various techniques, such as rule-based approaches, machine learning models (like conditional random fields or deep learning models), or a combination of these methods to recognize entities.\n",
    "\n",
    "**Entity/Token Classification:**\n",
    "Once the entities are recognized, they are classified into predefined categories like \"person,\" \"organization,\" \"location,\" \"date,\" \"number,\" etc. These categories help organize and provide context to the recognized entities.\n",
    "\n",
    "**Output:**\n",
    "The final output of the NER process is a structured representation of the original text with identified named entities and their corresponding categories. This output can be used for various purposes like information extraction, content summarization, sentiment analysis, and more."
   ]
  },
  {
   "cell_type": "markdown",
   "metadata": {},
   "source": [
    "## IOB NER Tagging Format\n",
    "- IOB tagging, which stands for Inside-Outside-Beginning tagging, is a common technique used in named entity recognition (NER) to label tokens in a text sequence to indicate their positions within named entities. It helps identify the starting, inside, and outside parts of entities within the text."
   ]
  },
  {
   "cell_type": "markdown",
   "metadata": {},
   "source": [
    "<img src = \"Screenshot 2024-10-26 at 8.39.52 PM.png\">\n",
    "\n",
    "\n",
    "\n",
    "- IOB Tagging:\n",
    "The tokens within a named entity are tagged as follows:\n",
    "\n",
    "    - \"B\" (Beginning): The first token of an entity is tagged with \"B\" to indicate the beginning of the entity.\n",
    "    - \"I\" (Inside): Tokens subsequent to the first token of an entity are tagged with \"I\" to indicate they are inside the entity.\n",
    "    - \"O\" (Outside): Tokens that are not part of any named entity are tagged with \"O\" to indicate they are outside any entity.\n",
    "\n",
    "- Tagging Format Article:\n",
    "    - https://en.wikipedia.org/wiki/Inside%E2%80%93outside%E2%80%93beginning_(tagging)\n",
    "\n"
   ]
  },
  {
   "cell_type": "markdown",
   "metadata": {},
   "source": [
    "## What is Transformers?\n",
    "- The Transformer architecture's key innovation is the mechanism of self-attention, which allows the model to weigh the importance of different words in a sentence relative to each other.\n",
    "- This self-attention mechanism enables the model to capture contextual relationships between words regardless of their position in the input sequence.\n",
    "\n",
    "<img src = \"Screenshot 2024-10-26 at 8.40.15 PM.png\">\n",
    "\n"
   ]
  },
  {
   "cell_type": "markdown",
   "metadata": {},
   "source": [
    "## The Dataset\n",
    "### MIT Restaurant Dataset\n",
    "\n",
    "https://groups.csail.mit.edu/sls/downloads/restaurant/\n",
    "\n",
    "https://huggingface.co/datasets/tner/mit_restaurant\n",
    "\n",
    "\n",
    "```\n",
    "{\n",
    "    'tags': [0, 0, 0, 0, 0, 0, 0, 0, 5, 3, 4, 0],\n",
    "    'tokens': ['can', 'you', 'find', 'the', 'phone', 'number', 'for', 'the', 'closest', 'family', 'style', 'restaurant']\n",
    "}\n",
    "\n",
    "```"
   ]
  },
  {
   "cell_type": "markdown",
   "metadata": {},
   "source": []
  },
  {
   "cell_type": "markdown",
   "metadata": {},
   "source": []
  }
 ],
 "metadata": {
  "language_info": {
   "name": "python"
  }
 },
 "nbformat": 4,
 "nbformat_minor": 2
}
